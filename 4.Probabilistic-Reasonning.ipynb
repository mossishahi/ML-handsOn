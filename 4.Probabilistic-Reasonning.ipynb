{
 "cells": [
  {
   "cell_type": "markdown",
   "metadata": {},
   "source": [
    "# Probabilistic Reasoning"
   ]
  },
  {
   "cell_type": "markdown",
   "metadata": {},
   "source": [
    "## Exercise 1: Follow the robot"
   ]
  },
  {
   "cell_type": "markdown",
   "metadata": {},
   "source": [
    "Assume you get your hands on a robot that has various sensors."
   ]
  },
  {
   "cell_type": "markdown",
   "metadata": {},
   "source": [
    "## a)"
   ]
  },
  {
   "cell_type": "markdown",
   "metadata": {},
   "source": [
    "The robot has a very cheap camera on board, so it's not very accurate at reading colors. After color calibration you know the camera color model. Assume the robot is located in a white room with 5 boxes: 2 red, 2 green and a blue one. The robot moves towards a box and the camera reads green. How likely is it that the box is actually green?*"
   ]
  },
  {
   "cell_type": "markdown",
   "metadata": {},
   "source": [
    "Let us first write down the color mapping."
   ]
  },
  {
   "cell_type": "code",
   "execution_count": 1,
   "metadata": {},
   "outputs": [
    {
     "data": {
      "text/html": [
       "<div>\n",
       "<style scoped>\n",
       "    .dataframe tbody tr th:only-of-type {\n",
       "        vertical-align: middle;\n",
       "    }\n",
       "\n",
       "    .dataframe tbody tr th {\n",
       "        vertical-align: top;\n",
       "    }\n",
       "\n",
       "    .dataframe thead th {\n",
       "        text-align: right;\n",
       "    }\n",
       "</style>\n",
       "<table border=\"1\" class=\"dataframe\">\n",
       "  <thead>\n",
       "    <tr style=\"text-align: right;\">\n",
       "      <th></th>\n",
       "      <th>R</th>\n",
       "      <th>G</th>\n",
       "      <th>B</th>\n",
       "    </tr>\n",
       "  </thead>\n",
       "  <tbody>\n",
       "    <tr>\n",
       "      <th>R</th>\n",
       "      <td>0.8</td>\n",
       "      <td>0.1</td>\n",
       "      <td>0.1</td>\n",
       "    </tr>\n",
       "    <tr>\n",
       "      <th>G</th>\n",
       "      <td>0.1</td>\n",
       "      <td>0.6</td>\n",
       "      <td>0.2</td>\n",
       "    </tr>\n",
       "    <tr>\n",
       "      <th>B</th>\n",
       "      <td>0.1</td>\n",
       "      <td>0.3</td>\n",
       "      <td>0.7</td>\n",
       "    </tr>\n",
       "  </tbody>\n",
       "</table>\n",
       "</div>"
      ],
      "text/plain": [
       "     R    G    B\n",
       "R  0.8  0.1  0.1\n",
       "G  0.1  0.6  0.2\n",
       "B  0.1  0.3  0.7"
      ]
     },
     "execution_count": 1,
     "metadata": {},
     "output_type": "execute_result"
    }
   ],
   "source": [
    "import pandas as pd\n",
    "\n",
    "color_model = pd.DataFrame({'R': [0.8, 0.1, 0.1], \n",
    "                            'G': [0.1, 0.6, 0.3], \n",
    "                            'B': [0.1, 0.2, 0.7]}, index=['R', 'G', 'B'])\n",
    "color_model"
   ]
  },
  {
   "cell_type": "markdown",
   "metadata": {},
   "source": [
    "<b> ^ description of the above Table: </b>  <br> <mark>for instance: Table[1][2] ~ Table[R][G] = 0.1 means that the probability that the <b>true color</b> of the box be <b>Green</b> and the camera see it <b> Red </b> equals to: 0.1</mark>"
   ]
  },
  {
   "cell_type": "markdown",
   "metadata": {},
   "source": [
    "The quantities of the boxes are:"
   ]
  },
  {
   "cell_type": "code",
   "execution_count": 6,
   "metadata": {
    "jupyter": {
     "outputs_hidden": false
    }
   },
   "outputs": [
    {
     "data": {
      "text/plain": [
       "R    2\n",
       "G    2\n",
       "B    1\n",
       "dtype: int64"
      ]
     },
     "execution_count": 6,
     "metadata": {},
     "output_type": "execute_result"
    }
   ],
   "source": [
    "quantities = pd.Series({'R': 2, 'G': 2, 'B': 1}, index=None)\n",
    "quantities"
   ]
  },
  {
   "cell_type": "markdown",
   "metadata": {},
   "source": [
    "To compute the probability that we are interested in, we will use Bayes' rule:"
   ]
  },
  {
   "cell_type": "markdown",
   "metadata": {},
   "source": [
    "**Notation:**\n",
    "We will use $X$ as the variable for the true color and $Z$ as the variable for the color read by the camera."
   ]
  },
  {
   "cell_type": "markdown",
   "metadata": {},
   "source": [
    "Thus, what we want to compute is $p(X=G|Z=G)$. Bayes' rule says that:\n",
    "\n",
    "$$ p(a|b) = \\frac{ p(b|a) \\cdot p(a)}{p(b)} $$\n",
    "\n",
    "Converting it to our need, we have:"
   ]
  },
  {
   "cell_type": "markdown",
   "metadata": {},
   "source": [
    "$$p(X=G|Z=G) = \\frac{p(Z=G|X=G) \\cdot p(X=G)}{p(Z=G)}$$"
   ]
  },
  {
   "cell_type": "markdown",
   "metadata": {},
   "source": [
    "Now let's compute each term on the RHS:\n",
    "\n",
    "### The term $p(Z=G|X=G)$ is the <b>likelihood</b> and is exactly why we need a sensor model."
   ]
  },
  {
   "cell_type": "code",
   "execution_count": 15,
   "metadata": {},
   "outputs": [
    {
     "data": {
      "text/html": [
       "<div>\n",
       "<style scoped>\n",
       "    .dataframe tbody tr th:only-of-type {\n",
       "        vertical-align: middle;\n",
       "    }\n",
       "\n",
       "    .dataframe tbody tr th {\n",
       "        vertical-align: top;\n",
       "    }\n",
       "\n",
       "    .dataframe thead th {\n",
       "        text-align: right;\n",
       "    }\n",
       "</style>\n",
       "<table border=\"1\" class=\"dataframe\">\n",
       "  <thead>\n",
       "    <tr style=\"text-align: right;\">\n",
       "      <th></th>\n",
       "      <th>R</th>\n",
       "      <th>G</th>\n",
       "      <th>B</th>\n",
       "    </tr>\n",
       "  </thead>\n",
       "  <tbody>\n",
       "    <tr>\n",
       "      <th>R</th>\n",
       "      <td>0.8</td>\n",
       "      <td>0.1</td>\n",
       "      <td>0.1</td>\n",
       "    </tr>\n",
       "    <tr>\n",
       "      <th>G</th>\n",
       "      <td>0.1</td>\n",
       "      <td>0.6</td>\n",
       "      <td>0.2</td>\n",
       "    </tr>\n",
       "    <tr>\n",
       "      <th>B</th>\n",
       "      <td>0.1</td>\n",
       "      <td>0.3</td>\n",
       "      <td>0.7</td>\n",
       "    </tr>\n",
       "  </tbody>\n",
       "</table>\n",
       "</div>"
      ],
      "text/plain": [
       "     R    G    B\n",
       "R  0.8  0.1  0.1\n",
       "G  0.1  0.6  0.2\n",
       "B  0.1  0.3  0.7"
      ]
     },
     "execution_count": 15,
     "metadata": {},
     "output_type": "execute_result"
    }
   ],
   "source": [
    "color_model"
   ]
  },
  {
   "cell_type": "code",
   "execution_count": 16,
   "metadata": {
    "jupyter": {
     "outputs_hidden": false
    }
   },
   "outputs": [
    {
     "data": {
      "text/plain": [
       "0.6"
      ]
     },
     "execution_count": 16,
     "metadata": {},
     "output_type": "execute_result"
    }
   ],
   "source": [
    "likelihood_gg = color_model.loc['G', 'G']\n",
    "likelihood_gg"
   ]
  },
  {
   "cell_type": "markdown",
   "metadata": {},
   "source": [
    "The second term $p(X=G)$ is the <b>prior</b>. In this case we know the prior exactly: $$p(X=G) = \\frac{n_G}{n_R + n_G + n_B} = \\frac{2}{5}$$"
   ]
  },
  {
   "cell_type": "code",
   "execution_count": 17,
   "metadata": {},
   "outputs": [
    {
     "data": {
      "text/plain": [
       "R    2\n",
       "G    2\n",
       "B    1\n",
       "dtype: int64"
      ]
     },
     "execution_count": 17,
     "metadata": {},
     "output_type": "execute_result"
    }
   ],
   "source": [
    "quantities"
   ]
  },
  {
   "cell_type": "code",
   "execution_count": 18,
   "metadata": {
    "jupyter": {
     "outputs_hidden": false
    }
   },
   "outputs": [
    {
     "data": {
      "text/plain": [
       "0.4"
      ]
     },
     "execution_count": 18,
     "metadata": {},
     "output_type": "execute_result"
    }
   ],
   "source": [
    "prior_g = quantities['G'] / quantities.sum()\n",
    "prior_g"
   ]
  },
  {
   "cell_type": "markdown",
   "metadata": {},
   "source": [
    "The denominator $p(Z=G)$ is the <b>normalizer</b> and we compute it by **marginalization**, \n",
    "\n",
    "a.k.a. by summing up the (likelihood * prior) products for **all possibilities** regarding the true color:\n",
    "\n",
    "$$p(Z=G) = \\sum_{x \\in \\{R,G,B\\}} p(Z=G|X=x)p(X=x)$$"
   ]
  },
  {
   "cell_type": "markdown",
   "metadata": {},
   "source": [
    "$$ \\Rightarrow p(X=G|Z=G) = \\frac{ p(Z=G|X=G)p(X=G) }{\\sum_{x \\in \\{R,G,B\\}} p(Z=G|X=x)p(X=x)} $$"
   ]
  },
  {
   "cell_type": "markdown",
   "metadata": {},
   "source": [
    "<i> Note that marginalizing here is easy because we have a small finite set of possibilities. \n",
    "In many problems however, the normalizer is very expensive to compute and we resort to tools like approximation (e.g. by sampling).</i>"
   ]
  },
  {
   "cell_type": "markdown",
   "metadata": {},
   "source": [
    "The normalizer is therefore in practice just an inner product between two vectors: \n",
    "\n",
    "$$ p(Z=G) = \\langle p(Z=G|X), p(X) \\rangle  $$\n",
    "\n",
    "\n"
   ]
  },
  {
   "cell_type": "markdown",
   "metadata": {},
   "source": [
    "The first vector $p(Z=G|X)$ can be read from the color model, a.k.a. the row that corresponds to observing \"green\".\n",
    "\n",
    "<b>In words, it is the likelihood of reading \"green\" given the true color.</b>"
   ]
  },
  {
   "cell_type": "code",
   "execution_count": 19,
   "metadata": {},
   "outputs": [
    {
     "data": {
      "text/html": [
       "<div>\n",
       "<style scoped>\n",
       "    .dataframe tbody tr th:only-of-type {\n",
       "        vertical-align: middle;\n",
       "    }\n",
       "\n",
       "    .dataframe tbody tr th {\n",
       "        vertical-align: top;\n",
       "    }\n",
       "\n",
       "    .dataframe thead th {\n",
       "        text-align: right;\n",
       "    }\n",
       "</style>\n",
       "<table border=\"1\" class=\"dataframe\">\n",
       "  <thead>\n",
       "    <tr style=\"text-align: right;\">\n",
       "      <th></th>\n",
       "      <th>R</th>\n",
       "      <th>G</th>\n",
       "      <th>B</th>\n",
       "    </tr>\n",
       "  </thead>\n",
       "  <tbody>\n",
       "    <tr>\n",
       "      <th>R</th>\n",
       "      <td>0.8</td>\n",
       "      <td>0.1</td>\n",
       "      <td>0.1</td>\n",
       "    </tr>\n",
       "    <tr>\n",
       "      <th>G</th>\n",
       "      <td>0.1</td>\n",
       "      <td>0.6</td>\n",
       "      <td>0.2</td>\n",
       "    </tr>\n",
       "    <tr>\n",
       "      <th>B</th>\n",
       "      <td>0.1</td>\n",
       "      <td>0.3</td>\n",
       "      <td>0.7</td>\n",
       "    </tr>\n",
       "  </tbody>\n",
       "</table>\n",
       "</div>"
      ],
      "text/plain": [
       "     R    G    B\n",
       "R  0.8  0.1  0.1\n",
       "G  0.1  0.6  0.2\n",
       "B  0.1  0.3  0.7"
      ]
     },
     "execution_count": 19,
     "metadata": {},
     "output_type": "execute_result"
    }
   ],
   "source": [
    "color_model"
   ]
  },
  {
   "cell_type": "code",
   "execution_count": 20,
   "metadata": {},
   "outputs": [
    {
     "data": {
      "text/plain": [
       "R    0.1\n",
       "G    0.6\n",
       "B    0.2\n",
       "Name: G, dtype: float64"
      ]
     },
     "execution_count": 20,
     "metadata": {},
     "output_type": "execute_result"
    }
   ],
   "source": [
    "likelihoods_g = color_model.loc['G']\n",
    "likelihoods_g"
   ]
  },
  {
   "cell_type": "markdown",
   "metadata": {},
   "source": [
    "The second vector $p(X)$ is just the prior probability of each color:"
   ]
  },
  {
   "cell_type": "code",
   "execution_count": 21,
   "metadata": {
    "jupyter": {
     "outputs_hidden": false
    }
   },
   "outputs": [
    {
     "data": {
      "text/plain": [
       "R    0.4\n",
       "G    0.4\n",
       "B    0.2\n",
       "dtype: float64"
      ]
     },
     "execution_count": 21,
     "metadata": {},
     "output_type": "execute_result"
    }
   ],
   "source": [
    "priors = quantities / quantities.sum()\n",
    "priors"
   ]
  },
  {
   "cell_type": "markdown",
   "metadata": {},
   "source": [
    "Therefore, the normalizer $p(Z=G)$, a.k.a. the probability of sensing green is:"
   ]
  },
  {
   "cell_type": "code",
   "execution_count": 22,
   "metadata": {
    "jupyter": {
     "outputs_hidden": false
    }
   },
   "outputs": [
    {
     "data": {
      "text/plain": [
       "0.32"
      ]
     },
     "execution_count": 22,
     "metadata": {},
     "output_type": "execute_result"
    }
   ],
   "source": [
    "import numpy as np\n",
    "\n",
    "normalizer_g = np.dot(likelihoods_g, priors)\n",
    "normalizer_g"
   ]
  },
  {
   "cell_type": "markdown",
   "metadata": {},
   "source": [
    "Now we have everything we need to apply Bayes' rule:"
   ]
  },
  {
   "cell_type": "code",
   "execution_count": 23,
   "metadata": {
    "jupyter": {
     "outputs_hidden": false
    }
   },
   "outputs": [
    {
     "data": {
      "text/plain": [
       "0.75"
      ]
     },
     "execution_count": 23,
     "metadata": {},
     "output_type": "execute_result"
    }
   ],
   "source": [
    "p_gg = likelihood_gg * prior_g / normalizer_g\n",
    "p_gg"
   ]
  },
  {
   "cell_type": "markdown",
   "metadata": {},
   "source": [
    "## b)"
   ]
  },
  {
   "cell_type": "markdown",
   "metadata": {},
   "source": [
    "The robot has a proximity sensor and it uses it to measure its distance from a door. <br>The sensor can be modeled using a **continuous random variable**\n",
    "with a Normal distribution with **$\\sigma_1 = 0.3$**. <br><br>Express the sensor model $p(z_t|x_t)$ in the\n",
    "full form (not the shorthand notation)."
   ]
  },
  {
   "cell_type": "markdown",
   "metadata": {},
   "source": [
    "$$ p(z_t|x_t) = \\cal{N} (z_t ; x_t, \\sigma_1^2)\n",
    "= \\frac{1}{\\sigma_1\\sqrt{2\\pi}} \\exp \\left( - \\frac{(z_t-x_t)^2}{2\\sigma_1^2} \\right) \n",
    "= \\frac{1}{0.3\\sqrt{2\\pi}} \\exp \\left( - \\frac{(z_t-x_t)^2}{2 \\cdot 0.3^2} \\right) $$"
   ]
  },
  {
   "cell_type": "code",
   "execution_count": 24,
   "metadata": {},
   "outputs": [],
   "source": [
    "import matplotlib.pyplot as plt"
   ]
  },
  {
   "cell_type": "code",
   "execution_count": 25,
   "metadata": {},
   "outputs": [],
   "source": [
    "dx = 0.02\n",
    "xmin = 0.\n",
    "xmax = 5.\n",
    "space = np.arange(xmin, xmax, dx)\n",
    "sigma1 = 0.3"
   ]
  },
  {
   "cell_type": "code",
   "execution_count": 26,
   "metadata": {},
   "outputs": [],
   "source": [
    "# Assume the robot is somewhere\n",
    "x_robot = 2.3"
   ]
  },
  {
   "cell_type": "code",
   "execution_count": 34,
   "metadata": {},
   "outputs": [],
   "source": [
    "def normal_pdf(x, mu, var):\n",
    "    return np.exp(-(x - mu)**2 / (2 * var)) / np.sqrt(2*np.pi*var)"
   ]
  },
  {
   "cell_type": "code",
   "execution_count": 35,
   "metadata": {},
   "outputs": [],
   "source": [
    "p_zx = normal_pdf(space, mu=x_robot, var=sigma1**2)"
   ]
  },
  {
   "cell_type": "code",
   "execution_count": 33,
   "metadata": {},
   "outputs": [
    {
     "data": {
      "text/plain": [
       "<matplotlib.legend.Legend at 0x7ff943a18c70>"
      ]
     },
     "execution_count": 33,
     "metadata": {},
     "output_type": "execute_result"
    },
    {
     "data": {
      "image/png": "[encoded data removed]",
      "text/plain": [
       "<Figure size 600x200 with 1 Axes>"
      ]
     },
     "metadata": {
      "needs_background": "light"
     },
     "output_type": "display_data"
    }
   ],
   "source": [
    "plt.figure(dpi=100, figsize=(6, 2))\n",
    "plt.plot(space, p_zx, label='sensor reading', color = \"grey\")\n",
    "plt.fill_between(space, p_zx, label='sensor model c.d.f.', alpha=0.2)\n",
    "plt.scatter(x_robot, y=0, label='true position', color='orange')\n",
    "plt.plot([x_robot, x_robot + sigma1], [0.25, 0.25], label='$\\sigma_1$', lw=1, marker='|')\n",
    "plt.xlabel('x (space)')\n",
    "plt.ylabel('likelihood p(z|x)')\n",
    "plt.legend()"
   ]
  },
  {
   "cell_type": "markdown",
   "metadata": {},
   "source": [
    "Why can the likelihood get values greater than 1 ?\n",
    "\n",
    "**p(z|x)** is a p.d.f. (probability density function).\n",
    "Actually the above pdf function describes the probability of X **given the $\\mu$ (mean)**\n",
    "\n",
    "What sums up to 1 is its integral (the area under the curve) - the c.d.f."
   ]
  },
  {
   "cell_type": "code",
   "execution_count": 18,
   "metadata": {},
   "outputs": [
    {
     "data": {
      "text/plain": [
       "0.9999999999999932"
      ]
     },
     "execution_count": 18,
     "metadata": {},
     "output_type": "execute_result"
    }
   ],
   "source": [
    "np.sum(p_zx * dx)"
   ]
  },
  {
   "cell_type": "markdown",
   "metadata": {},
   "source": [
    "## c)"
   ]
  },
  {
   "cell_type": "markdown",
   "metadata": {},
   "source": [
    "Now the robot moves into a hallway, <br>Initially it knows it is located\n",
    "at the door **($x_0=0$)**. The robot can execute move commands but the result of the\n",
    "action is not always perfect. <br>Assume that the robot receives a **command** $u_t$ at each time step to move with constant **speed $v$**. <br>\n",
    "The **motion** can also be modeled with a Gaussian with deviation $\\sigma_2 = 0.1$. <br>Write\n",
    "the motion model $p(x_t|x_{t-1}, u_t)$."
   ]
  },
  {
   "cell_type": "markdown",
   "metadata": {},
   "source": [
    "The motion can also be modeled with a Gaussian. We just need to think about what\n",
    "is our mean and what is our variance. The variance is the square of the standard deviation which given as the actuator noise\n",
    "$\\sigma_2 = 0.1$. Our mean is the expected position of the robot after the motion\n",
    "$u_t$. Since our robot moves with constant speed $v$, the expected position is simply $\\mu = x_{t-1} + v \\Delta t$. Therefore we have"
   ]
  },
  {
   "cell_type": "markdown",
   "metadata": {},
   "source": [
    "$$ p(x_t|x_{t-1}, u_t) = \\cal{N} (x_t; x_{t-1} + v \\Delta t, \\sigma_2^2) $$\n",
    "\n",
    "$$\n",
    "= \\frac{1}{\\sigma_2 \\sqrt{2\\pi}} \\exp \\left( - \\frac{(x_t - (x_{t-1}+ v \\Delta t))^2}{2\\sigma_2^2} \\right) $$\n",
    "\n",
    "$$\n",
    "= \\frac{1}{0.1\\sqrt{2\\pi}} \\exp \\left( - \\frac{(x_t - (x_{t-1}+ v \\Delta t))^2}{2 \\cdot 0.1^2} \\right) $$"
   ]
  },
  {
   "cell_type": "code",
   "execution_count": 40,
   "metadata": {},
   "outputs": [],
   "source": [
    "x0 = 0\n",
    "dt = 0.2\n",
    "v = 6\n",
    "sigma2 = 0.1"
   ]
  },
  {
   "cell_type": "code",
   "execution_count": 41,
   "metadata": {},
   "outputs": [],
   "source": [
    "mu = x0 + v * dt\n",
    "p_trans01 = normal_pdf(space, mu, sigma2**2)"
   ]
  },
  {
   "cell_type": "code",
   "execution_count": 44,
   "metadata": {},
   "outputs": [
    {
     "data": {
      "text/plain": [
       "<matplotlib.legend.Legend at 0x7ff943955610>"
      ]
     },
     "execution_count": 44,
     "metadata": {},
     "output_type": "execute_result"
    },
    {
     "data": {
      "image/png": "[encoded data removed]",
      "text/plain": [
       "<Figure size 600x300 with 1 Axes>"
      ]
     },
     "metadata": {
      "needs_background": "light"
     },
     "output_type": "display_data"
    }
   ],
   "source": [
    "plt.figure(dpi=120, figsize=(5, 2.5))\n",
    "plt.plot(space, p_trans01, label='motion model p.d.f.', color = 'grey')\n",
    "plt.fill_between(space, p_trans01, label='motion model c.d.f.', alpha=0.2)\n",
    "plt.scatter(x0, y=0, label='$x_0$', color='grey')\n",
    "plt.scatter(mu, y=0, label='$\\mu = x_0 + v dt$', color='orange')\n",
    "plt.plot([mu, mu + sigma2], [0.5, 0.5], label='$\\sigma_2$', lw=1, marker='|')\n",
    "plt.xlabel('x (space)')\n",
    "plt.ylabel('transition prob. $p(x_1|x_0, u_0)$')\n",
    "plt.legend()"
   ]
  },
  {
   "cell_type": "markdown",
   "metadata": {},
   "source": [
    "## d)"
   ]
  },
  {
   "cell_type": "markdown",
   "metadata": {},
   "source": [
    "You let the robot run with a speed of 1 m/s. The robot only runs\n",
    "forward and it updates its belief every second. Assume you get the following sensor\n",
    "measurements in the first 3 seconds: $\\{z_1 = 1.2,  z_2 = 1.6,  z_3 = 2.5\\}$.\n",
    "Further assume that the hallway is only 5 meters long. <br>Where\n",
    "does the robot believe it is located with respect to the door after 3 seconds? <br>How\n",
    "certain is it about its location?<br>Try out different standard deviations for the sensor and the motion model. <br>How does it affect the robot's belief?"
   ]
  },
  {
   "cell_type": "markdown",
   "metadata": {},
   "source": [
    "We model the state variable $x$ as a continuous random variable with values between 0 and 5, where 0 means that the robot is at the door. We want to compute the robot’s belief. Initially, the robot knows it is located at the door ($x_0=0$), therefore we have $bel(x_0 = 0) = +\\infty$. We then use the Bayes Filter algorithm to compute the belief after 3 seconds, namely <b> $bel(x_3)$ </b>. We compute the belief at each time step. The general equation of the Bayes filter is:"
   ]
  },
  {
   "cell_type": "markdown",
   "metadata": {},
   "source": [
    "$$ bel(x_t) = \\eta_t \\cdot p(z_t|x_t) \\cdot \\int p(x_t | x_{t-1}, u_t) \\cdot bel(x_{t-1}) dx_{t-1} $$"
   ]
  },
  {
   "cell_type": "markdown",
   "metadata": {},
   "source": [
    "In our case the space can be reduced to an interval from 0 to 5, so we get a definite integral. Furthermore, there is only one action $u$ that is taken at every time step, which is to move with constant speed 1 m/s.\n",
    "Let us see how we would compute the belief after one second:"
   ]
  },
  {
   "cell_type": "markdown",
   "metadata": {},
   "source": [
    "$$ bel(x_1) = \\eta_1 \\cdot p(z_1|x_1) \\cdot \\int_{0}^5 p(x_1 | x_{0}, u) \\cdot bel(x_{0}) dx_0 $$ \n",
    "\n",
    "which reduces to $$ bel(x_1) = \\eta_1 \\cdot p(z_1|x_1) \\cdot p(x_1 | x_{0}=0, u)  $$"
   ]
  },
  {
   "cell_type": "markdown",
   "metadata": {},
   "source": [
    "We have the **Sensor model** from question 1b and the **Motion model** from question 1c, so we can substitute with the normal distributions:"
   ]
  },
  {
   "cell_type": "markdown",
   "metadata": {},
   "source": [
    "$$ p(z_1|x_1) = \\frac{1}{0.3\\sqrt{2\\pi}} \\exp \\left( - \\frac{(1.2-x_1)^2}{2 \\cdot 0.3^2} \\right) $$\n",
    "              \n",
    "$$ p(x_1 | x_0, u) = \\frac{1}{0.1\\sqrt{2\\pi}} \\exp \\left( - \\frac{(x_1 - (0 + 1 \\cdot 1))^2}{2 \\cdot 0.1^2} \\right) $$\n",
    "\n",
    "$$ \\eta_1 = \\left( \\int_0^5 p(z_1=1.2|x_1) \\cdot p(x_1|x_0=0, u) dx_1 \\right)^{-1} $$"
   ]
  },
  {
   "cell_type": "markdown",
   "metadata": {},
   "source": [
    "In our example, the sensor model and the action model are both represented by (one-dimensional) Gaussian pdfs. This is a particular instance of a family of Bayes Filter algorithms, the **Kalman Filter**. The great advantage of the Kalman Filter is that we can do all computations in closed form:"
   ]
  },
  {
   "cell_type": "markdown",
   "metadata": {},
   "source": [
    "The computation of the belief can be split in two steps:\n",
    "\n",
    "the *control update* $$ \\overline{bel(x_t)} = \\int p(x_t | x_{t-1}, u_t) \\cdot bel(x_{t-1}) dx_{t-1} $$\n",
    "    \n",
    "and the *measurement update* $$bel(x_t) = \\eta_t \\cdot p(z_t|x_t) \\cdot \\overline{bel(x_t)}$$"
   ]
  },
  {
   "cell_type": "markdown",
   "metadata": {},
   "source": [
    "Consider the displacement $\\Delta x := x_t - x_{t-1}$. This is a random variable with distribution $p(\\Delta x) = \\cal N(\\Delta x ; v \\Delta t, \\sigma_1^2)$.\n",
    "\n",
    "The control update is basically a convolution of the $bel(x_{t-1})$ with the displacement distribution:\n",
    "\n",
    "$$ \\int p(x_t | x_{t-1}, u_t) \\cdot bel(x_{t-1}) dx_{t-1} =  \\int \\cal N(\\Delta x + x_{t-1} ; v \\Delta t + x_{t-1}, \\sigma_1^2) \\cdot bel(x_{t-1}) dx_{t-1} = \\cal N(\\Delta x ; v \\Delta t, \\sigma_1^2) * bel(x_{t-1}) $$"
   ]
  },
  {
   "cell_type": "markdown",
   "metadata": {},
   "source": [
    "The convolution of two Gaussian pdfs results in another Gaussian pdf. We can compute the parameters of this new Gaussian in closed form:\n",
    "\n",
    "$$ \\cal N(x ; \\mu_f, \\sigma_f^2) * \\cal N(x ; \\mu_g, \\sigma_g^2) = \\cal N (x ; \\mu_f + \\mu_g, \\sigma_f^2 + \\sigma_g^2) $$\n",
    "\n",
    "Assuming a Gaussian belief distribution, in our case:\n",
    "$$ \\overline{bel(x_t)} = \\cal N(x ; \\mu_{t-1} + v \\Delta t, \\sigma_{t-1}^2 + \\sigma_1^2)$$ "
   ]
  },
  {
   "cell_type": "markdown",
   "metadata": {},
   "source": [
    "Thus, the *measurement update* is a product of two Gaussian pdfs. It is easy to verify that this product is proportional to a Gaussian pdf:"
   ]
  },
  {
   "cell_type": "markdown",
   "metadata": {},
   "source": [
    "$$ \\cal N(x ; \\mu_f, \\sigma_f^2) \\cdot \\cal N(x ; \\mu_g, \\sigma_g^2) = s \\cdot \\cal N \\left( x ; \\frac{\\sigma_g^2 \\mu_f + \\sigma_f^2 \\mu_g}{\\sigma_f^2 + \\sigma_g^2}, \\frac{\\sigma_f^2 \\sigma_g^2}{\\sigma_f^2 + \\sigma_g^2} \\right) $$"
   ]
  },
  {
   "cell_type": "markdown",
   "metadata": {},
   "source": [
    "for some scaling factor $s$. Therefore, we know that in order to normalize the belief after each measurement, we need a factor $\\eta = s^{-1}$ to get a pdf again."
   ]
  },
  {
   "cell_type": "markdown",
   "metadata": {},
   "source": [
    "Therefore, every action and measurement update can be computed extremely efficiently. If the models were arbitrary distributions, we would have to compute the updates explicitly."
   ]
  },
  {
   "cell_type": "code",
   "execution_count": 22,
   "metadata": {},
   "outputs": [],
   "source": [
    "from collections import namedtuple\n",
    "\n",
    "Normal = namedtuple('Normal', ['mu', 'var'])\n",
    "x0 = 0\n",
    "xmin = 0\n",
    "xmax = 5\n",
    "v = 1\n",
    "dt = 1\n",
    "var_sensor = sigma1**2\n",
    "var_motion = sigma2**2\n",
    "measurements = [1.2, 1.6, 2.5]\n",
    "tmax = len(measurements)"
   ]
  },
  {
   "cell_type": "code",
   "execution_count": 23,
   "metadata": {},
   "outputs": [],
   "source": [
    "def convolve_normal_pdfs(n1, n2):\n",
    "    return Normal(mu=n1.mu + n2.mu, var=n1.var + n2.var)"
   ]
  },
  {
   "cell_type": "code",
   "execution_count": 24,
   "metadata": {},
   "outputs": [],
   "source": [
    "def multiply_normal_pdfs(n1, n2):\n",
    "    mu = (n1.mu * n2.var + n2.mu * n1.var) / (n1.var + n2.var)\n",
    "    var = (n1.var * n2.var) / (n1.var + n2.var)\n",
    "    return Normal(mu=mu, var=var)"
   ]
  },
  {
   "cell_type": "code",
   "execution_count": 25,
   "metadata": {},
   "outputs": [
    {
     "data": {
      "text/html": [
       "<div>\n",
       "<style scoped>\n",
       "    .dataframe tbody tr th:only-of-type {\n",
       "        vertical-align: middle;\n",
       "    }\n",
       "\n",
       "    .dataframe tbody tr th {\n",
       "        vertical-align: top;\n",
       "    }\n",
       "\n",
       "    .dataframe thead th {\n",
       "        text-align: right;\n",
       "    }\n",
       "</style>\n",
       "<table border=\"1\" class=\"dataframe\">\n",
       "  <thead>\n",
       "    <tr style=\"text-align: right;\">\n",
       "      <th></th>\n",
       "      <th>t</th>\n",
       "      <th>update_type</th>\n",
       "      <th>mu</th>\n",
       "      <th>var</th>\n",
       "    </tr>\n",
       "  </thead>\n",
       "  <tbody>\n",
       "    <tr>\n",
       "      <th>0</th>\n",
       "      <td>1</td>\n",
       "      <td>u</td>\n",
       "      <td>1.000000</td>\n",
       "      <td>0.010000</td>\n",
       "    </tr>\n",
       "    <tr>\n",
       "      <th>1</th>\n",
       "      <td>1</td>\n",
       "      <td>z</td>\n",
       "      <td>1.020000</td>\n",
       "      <td>0.009000</td>\n",
       "    </tr>\n",
       "    <tr>\n",
       "      <th>2</th>\n",
       "      <td>2</td>\n",
       "      <td>u</td>\n",
       "      <td>2.020000</td>\n",
       "      <td>0.019000</td>\n",
       "    </tr>\n",
       "    <tr>\n",
       "      <th>3</th>\n",
       "      <td>2</td>\n",
       "      <td>z</td>\n",
       "      <td>1.946789</td>\n",
       "      <td>0.015688</td>\n",
       "    </tr>\n",
       "    <tr>\n",
       "      <th>4</th>\n",
       "      <td>3</td>\n",
       "      <td>u</td>\n",
       "      <td>2.946789</td>\n",
       "      <td>0.025688</td>\n",
       "    </tr>\n",
       "    <tr>\n",
       "      <th>5</th>\n",
       "      <td>3</td>\n",
       "      <td>z</td>\n",
       "      <td>2.847581</td>\n",
       "      <td>0.019984</td>\n",
       "    </tr>\n",
       "  </tbody>\n",
       "</table>\n",
       "</div>"
      ],
      "text/plain": [
       "   t update_type        mu       var\n",
       "0  1           u  1.000000  0.010000\n",
       "1  1           z  1.020000  0.009000\n",
       "2  2           u  2.020000  0.019000\n",
       "3  2           z  1.946789  0.015688\n",
       "4  3           u  2.946789  0.025688\n",
       "5  3           z  2.847581  0.019984"
      ]
     },
     "execution_count": 25,
     "metadata": {},
     "output_type": "execute_result"
    }
   ],
   "source": [
    "belief = Normal(mu=0, var=0)\n",
    "records = []\n",
    "\n",
    "p_displacement = Normal(mu=v * dt, var=var_motion)\n",
    "for t in range(tmax):\n",
    "    z_t = measurements[t]\n",
    "    \n",
    "    # motion or control update (convolution)\n",
    "    belief_ = convolve_normal_pdfs(p_displacement, belief)\n",
    "    records.append(dict(t=t+1, update_type='u', **belief_._asdict()))\n",
    "    \n",
    "    # measurement or sensor update (multiplication)\n",
    "    p_measurement = Normal(mu=z_t, var=var_sensor)\n",
    "    belief = multiply_normal_pdfs(p_measurement, belief_)\n",
    "    records.append(dict(t=t+1, update_type='z', **belief._asdict()))\n",
    "    \n",
    "df_bel = pd.DataFrame.from_records(records)\n",
    "df_bel"
   ]
  },
  {
   "cell_type": "code",
   "execution_count": 26,
   "metadata": {},
   "outputs": [],
   "source": [
    "n = len(df_bel)\n",
    "dx = 0.02\n",
    "x = np.arange(xmin, xmax+dx, dx)\n",
    "colors = {'u': 'm', 'z': 'g'}"
   ]
  },
  {
   "cell_type": "code",
   "execution_count": 29,
   "metadata": {},
   "outputs": [
    {
     "data": {
      "text/plain": [
       "<matplotlib.legend.Legend at 0x7fd622f674f0>"
      ]
     },
     "execution_count": 29,
     "metadata": {},
     "output_type": "execute_result"
    },
    {
     "data": {
      "image/png": "[encoded data removed]",
      "text/plain": [
       "<Figure size 720x240 with 1 Axes>"
      ]
     },
     "metadata": {
      "needs_background": "light"
     },
     "output_type": "display_data"
    }
   ],
   "source": [
    "fig = plt.figure(figsize=(6, 2), dpi=120)\n",
    "plt.plot([x0, x0], [0, 5], lw=2, label='bel($x_0$)', color='b')\n",
    "for i, rec in df_bel.iterrows():\n",
    "    p = normal_pdf(x, rec.mu, rec['var'])\n",
    "    abbrev = f\"${rec.update_type}_{rec.t}$\"\n",
    "    plt.plot(x, p, label=f\"bel(x|{abbrev})\", lw=1, \n",
    "             alpha=0.2 + 0.8 * i / n, color=colors[rec.update_type])\n",
    "    \n",
    "plt.legend()"
   ]
  },
  {
   "cell_type": "markdown",
   "metadata": {},
   "source": [
    "## Exercise 2: An overview of ML methods\n",
    "\n",
    "*Try to find (for example by internet search or from the book (Bishop)) at least\n",
    "5 examples for learning techniques that have not been discussed in class. Describe these\n",
    "techniques briefly and classify them with respect to the categories presented in the lecture.\n",
    "Here are some examples of learning algorithms:*\n",
    "\n",
    "  1. Mean-shift clustering: Unsupervised learning\n",
    "  2. Perceptron algorithm: Discriminant function (Binary linear classifier)\n",
    "  3. Neural Networks: Discriminative model (Non-linear classification or regression)\n",
    "  4. Naive Bayes classifier: Generative model (learns joint p(x, y))\n",
    "  5. Conditional Random Field (CRF): Discriminative model (structured prediction)\n",
    "  6. Classification and Regression Trees: Discriminative model\n",
    "  7. Linear Discriminant Analysis: Generative model (assumes Normal p(x|y))\n",
    "\n",
    "For a detailed explanation, see the textbook Pattern Recognition and Machine\n",
    "Learning by C.M. Bishop or the slides."
   ]
  }
 ],
 "metadata": {
  "celltoolbar": "Raw Cell Format",
  "kernelspec": {
   "display_name": "Python 3",
   "language": "python",
   "name": "python3"
  },
  "language_info": {
   "codemirror_mode": {
    "name": "ipython",
    "version": 3
   },
   "file_extension": ".py",
   "mimetype": "text/x-python",
   "name": "python",
   "nbconvert_exporter": "python",
   "pygments_lexer": "ipython3",
   "version": "3.8.5"
  }
 },
 "nbformat": 4,
 "nbformat_minor": 4
}
